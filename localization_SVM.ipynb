{
  "nbformat": 4,
  "nbformat_minor": 0,
  "metadata": {
    "colab": {
      "name": "localization_SVM.ipynb",
      "provenance": [],
      "collapsed_sections": [],
      "include_colab_link": true
    },
    "kernelspec": {
      "display_name": "Python 3",
      "name": "python3"
    }
  },
  "cells": [
    {
      "cell_type": "markdown",
      "metadata": {
        "id": "view-in-github",
        "colab_type": "text"
      },
      "source": [
        "<a href=\"https://colab.research.google.com/github/shymaagamal/Backpropagation-Algorithm/blob/master/localization_SVM.ipynb\" target=\"_parent\"><img src=\"https://colab.research.google.com/assets/colab-badge.svg\" alt=\"Open In Colab\"/></a>"
      ]
    },
    {
      "cell_type": "code",
      "metadata": {
        "id": "iihX18L002SU"
      },
      "source": [
        "import numpy as np\n",
        "import pylab as pl\n",
        "import pandas as pd\n",
        "import matplotlib.pyplot as plt \n",
        "%matplotlib inline\n",
        "import seaborn as sns\n",
        "from sklearn.utils import shuffle\n",
        "from sklearn.svm import SVC\n",
        "from sklearn.metrics import confusion_matrix,classification_report\n",
        "from sklearn.model_selection import cross_val_score, GridSearchCV\n",
        "from sklearn.model_selection import train_test_split\n",
        "import pickle"
      ],
      "execution_count": null,
      "outputs": []
    },
    {
      "cell_type": "code",
      "metadata": {
        "id": "4MEOusbW3IWH",
        "colab": {
          "base_uri": "https://localhost:8080/",
          "height": 111
        },
        "outputId": "0c97c91a-0010-4097-97ab-3d5a93369b91"
      },
      "source": [
        "data = shuffle(pd.read_csv(\"/content/Server_main_test.csv\"))\n",
        "data.head(2)"
      ],
      "execution_count": null,
      "outputs": [
        {
          "output_type": "execute_result",
          "data": {
            "text/html": [
              "<div>\n",
              "<style scoped>\n",
              "    .dataframe tbody tr th:only-of-type {\n",
              "        vertical-align: middle;\n",
              "    }\n",
              "\n",
              "    .dataframe tbody tr th {\n",
              "        vertical-align: top;\n",
              "    }\n",
              "\n",
              "    .dataframe thead th {\n",
              "        text-align: right;\n",
              "    }\n",
              "</style>\n",
              "<table border=\"1\" class=\"dataframe\">\n",
              "  <thead>\n",
              "    <tr style=\"text-align: right;\">\n",
              "      <th></th>\n",
              "      <th>W1</th>\n",
              "      <th>W2</th>\n",
              "      <th>W3</th>\n",
              "      <th>W4</th>\n",
              "      <th>out</th>\n",
              "    </tr>\n",
              "  </thead>\n",
              "  <tbody>\n",
              "    <tr>\n",
              "      <th>397</th>\n",
              "      <td>84</td>\n",
              "      <td>0</td>\n",
              "      <td>22</td>\n",
              "      <td>66</td>\n",
              "      <td>m3ml</td>\n",
              "    </tr>\n",
              "    <tr>\n",
              "      <th>57</th>\n",
              "      <td>0</td>\n",
              "      <td>0</td>\n",
              "      <td>68</td>\n",
              "      <td>0</td>\n",
              "      <td>tor2a_dctra</td>\n",
              "    </tr>\n",
              "  </tbody>\n",
              "</table>\n",
              "</div>"
            ],
            "text/plain": [
              "     W1  W2  W3  W4          out\n",
              "397  84   0  22  66         m3ml\n",
              "57    0   0  68   0  tor2a_dctra"
            ]
          },
          "metadata": {
            "tags": []
          },
          "execution_count": 2
        }
      ]
    },
    {
      "cell_type": "code",
      "metadata": {
        "id": "lCz33TvvLSOj"
      },
      "source": [
        "Y=data['out']\n",
        "X=data.drop(['out'], axis=1)"
      ],
      "execution_count": null,
      "outputs": []
    },
    {
      "cell_type": "code",
      "metadata": {
        "id": "7VWboNub3Diq",
        "colab": {
          "base_uri": "https://localhost:8080/"
        },
        "outputId": "9909e754-3ec0-4eef-ec04-e40f9340d196"
      },
      "source": [
        "X_train, X_test, Y_train_label,Y_test_label = train_test_split(X, Y, test_size=0.3, random_state=42)\n",
        "\n",
        "from imblearn import under_sampling, over_sampling\n",
        "from imblearn.over_sampling import SMOTE\n",
        "\n",
        "sm = SMOTE()\n",
        "X_train, Y_train_label = sm.fit_resample(X_train, Y_train_label)"
      ],
      "execution_count": null,
      "outputs": [
        {
          "output_type": "stream",
          "text": [
            "/usr/local/lib/python3.6/dist-packages/sklearn/externals/six.py:31: FutureWarning: The module is deprecated in version 0.21 and will be removed in version 0.23 since we've dropped support for Python 2.7. Please rely on the official version of six (https://pypi.org/project/six/).\n",
            "  \"(https://pypi.org/project/six/).\", FutureWarning)\n",
            "/usr/local/lib/python3.6/dist-packages/sklearn/utils/deprecation.py:144: FutureWarning: The sklearn.neighbors.base module is  deprecated in version 0.22 and will be removed in version 0.24. The corresponding classes / functions should instead be imported from sklearn.neighbors. Anything that cannot be imported from sklearn.neighbors is now part of the private API.\n",
            "  warnings.warn(message, FutureWarning)\n",
            "/usr/local/lib/python3.6/dist-packages/sklearn/utils/deprecation.py:87: FutureWarning: Function safe_indexing is deprecated; safe_indexing is deprecated in version 0.22 and will be removed in version 0.24.\n",
            "  warnings.warn(msg, category=FutureWarning)\n",
            "/usr/local/lib/python3.6/dist-packages/sklearn/utils/deprecation.py:87: FutureWarning: Function safe_indexing is deprecated; safe_indexing is deprecated in version 0.22 and will be removed in version 0.24.\n",
            "  warnings.warn(msg, category=FutureWarning)\n",
            "/usr/local/lib/python3.6/dist-packages/sklearn/utils/deprecation.py:87: FutureWarning: Function safe_indexing is deprecated; safe_indexing is deprecated in version 0.22 and will be removed in version 0.24.\n",
            "  warnings.warn(msg, category=FutureWarning)\n",
            "/usr/local/lib/python3.6/dist-packages/sklearn/utils/deprecation.py:87: FutureWarning: Function safe_indexing is deprecated; safe_indexing is deprecated in version 0.22 and will be removed in version 0.24.\n",
            "  warnings.warn(msg, category=FutureWarning)\n",
            "/usr/local/lib/python3.6/dist-packages/sklearn/utils/deprecation.py:87: FutureWarning: Function safe_indexing is deprecated; safe_indexing is deprecated in version 0.22 and will be removed in version 0.24.\n",
            "  warnings.warn(msg, category=FutureWarning)\n",
            "/usr/local/lib/python3.6/dist-packages/sklearn/utils/deprecation.py:87: FutureWarning: Function safe_indexing is deprecated; safe_indexing is deprecated in version 0.22 and will be removed in version 0.24.\n",
            "  warnings.warn(msg, category=FutureWarning)\n",
            "/usr/local/lib/python3.6/dist-packages/sklearn/utils/deprecation.py:87: FutureWarning: Function safe_indexing is deprecated; safe_indexing is deprecated in version 0.22 and will be removed in version 0.24.\n",
            "  warnings.warn(msg, category=FutureWarning)\n",
            "/usr/local/lib/python3.6/dist-packages/sklearn/utils/deprecation.py:87: FutureWarning: Function safe_indexing is deprecated; safe_indexing is deprecated in version 0.22 and will be removed in version 0.24.\n",
            "  warnings.warn(msg, category=FutureWarning)\n",
            "/usr/local/lib/python3.6/dist-packages/sklearn/utils/deprecation.py:87: FutureWarning: Function safe_indexing is deprecated; safe_indexing is deprecated in version 0.22 and will be removed in version 0.24.\n",
            "  warnings.warn(msg, category=FutureWarning)\n"
          ],
          "name": "stderr"
        }
      ]
    },
    {
      "cell_type": "markdown",
      "metadata": {
        "id": "8kagIF-V55L3"
      },
      "source": [
        "Normalize the Predictor(Feature Set) for SVM training"
      ]
    },
    {
      "cell_type": "code",
      "metadata": {
        "id": "hCFC06e55rZF"
      },
      "source": [
        "# Transforming non numerical labels into numerical labels\n",
        "from sklearn import preprocessing\n",
        "encoder = preprocessing.LabelEncoder()\n",
        "\n",
        "# encoding train labels \n",
        "encoder.fit(Y_train_label)\n",
        "Y_train = encoder.transform(Y_train_label)\n",
        "\n",
        "# encoding test labels \n",
        "encoder.fit(Y_test_label)\n",
        "Y_test = encoder.transform(Y_test_label)"
      ],
      "execution_count": null,
      "outputs": []
    },
    {
      "cell_type": "code",
      "metadata": {
        "id": "H-0AtrGV7JN3"
      },
      "source": [
        "# #Scaling the Train and Test feature set \n",
        "# from sklearn.preprocessing import StandardScaler\n",
        "# scaler = StandardScaler()\n",
        "# X_train_scaled = scaler.fit_transform(X_train)\n",
        "# X_test_scaled = scaler.transform(X_test)\n",
        "\n",
        "from sklearn.preprocessing import RobustScaler\n",
        "scaler = RobustScaler(quantile_range=(25, 75))\n",
        "X_train_scaled = scaler.fit_transform(X_train)\n",
        "X_test_scaled = scaler.transform(X_test)\n"
      ],
      "execution_count": null,
      "outputs": []
    },
    {
      "cell_type": "markdown",
      "metadata": {
        "id": "qocCb12o7VQu"
      },
      "source": [
        "Hyperparameter tuning using grid search and cross validation"
      ]
    },
    {
      "cell_type": "code",
      "metadata": {
        "id": "yDFv8Qy27UMS"
      },
      "source": [
        "params_grid = [{'kernel': ['rbf'], 'gamma': [0,1e-3, 1e-4,1e-5,10,100],\n",
        "                     'C': [1, 10, 100, 1000]},\n",
        "                    {'kernel': ['linear'], 'C': [1, 10, 100, 1000]}]"
      ],
      "execution_count": null,
      "outputs": []
    },
    {
      "cell_type": "markdown",
      "metadata": {
        "id": "O9hp-HFD7xdn"
      },
      "source": [
        "### Training SVM model using radial kernel"
      ]
    },
    {
      "cell_type": "code",
      "metadata": {
        "id": "cL2b3Pe57vlc",
        "colab": {
          "base_uri": "https://localhost:8080/"
        },
        "outputId": "171af693-88c3-45b1-b0be-3077b3281917"
      },
      "source": [
        "svm_model = GridSearchCV(SVC(), params_grid, cv=10)\n",
        "svm_model.fit(X_train_scaled, Y_train)"
      ],
      "execution_count": null,
      "outputs": [
        {
          "output_type": "execute_result",
          "data": {
            "text/plain": [
              "GridSearchCV(cv=10, error_score=nan,\n",
              "             estimator=SVC(C=1.0, break_ties=False, cache_size=200,\n",
              "                           class_weight=None, coef0=0.0,\n",
              "                           decision_function_shape='ovr', degree=3,\n",
              "                           gamma='scale', kernel='rbf', max_iter=-1,\n",
              "                           probability=False, random_state=None, shrinking=True,\n",
              "                           tol=0.001, verbose=False),\n",
              "             iid='deprecated', n_jobs=None,\n",
              "             param_grid=[{'C': [1, 10, 100, 1000],\n",
              "                          'gamma': [0, 0.001, 0.0001, 1e-05, 10, 100],\n",
              "                          'kernel': ['rbf']},\n",
              "                         {'C': [1, 10, 100, 1000], 'kernel': ['linear']}],\n",
              "             pre_dispatch='2*n_jobs', refit=True, return_train_score=False,\n",
              "             scoring=None, verbose=0)"
            ]
          },
          "metadata": {
            "tags": []
          },
          "execution_count": 8
        }
      ]
    },
    {
      "cell_type": "markdown",
      "metadata": {
        "id": "Km2law5X8Gee"
      },
      "source": [
        "### Confusion Matrix  and Accuracy Score "
      ]
    },
    {
      "cell_type": "code",
      "metadata": {
        "id": "jN9IjK_O74rx",
        "colab": {
          "base_uri": "https://localhost:8080/"
        },
        "outputId": "f4e31b09-6ca2-46ff-a154-e17df6f16416"
      },
      "source": [
        "# View the accuracy score\n",
        "print('Best score for training data:', svm_model.best_score_,\"\\n\") \n",
        "\n",
        "# View the best parameters for the model found using grid search\n",
        "print('Best C:',svm_model.best_estimator_.C,\"\\n\") \n",
        "print('Best Kernel:',svm_model.best_estimator_.kernel,\"\\n\")\n",
        "print('Best Gamma:',svm_model.best_estimator_.gamma,\"\\n\")\n",
        "\n",
        "final_model = svm_model.best_estimator_\n",
        "Y_pred = final_model.predict(X_test_scaled)\n",
        "Y_pred_label = list(encoder.inverse_transform(Y_pred))"
      ],
      "execution_count": null,
      "outputs": [
        {
          "output_type": "stream",
          "text": [
            "Best score for training data: 0.6705521472392638 \n",
            "\n",
            "Best C: 10 \n",
            "\n",
            "Best Kernel: rbf \n",
            "\n",
            "Best Gamma: 10 \n",
            "\n"
          ],
          "name": "stdout"
        }
      ]
    },
    {
      "cell_type": "code",
      "metadata": {
        "id": "SyjCpTVl8K9O",
        "colab": {
          "base_uri": "https://localhost:8080/"
        },
        "outputId": "43f38ff4-3f93-4730-f340-8e6e2f3e43e5"
      },
      "source": [
        "# Making the Confusion Matrix\n",
        "#print(pd.crosstab(Y_test_label, Y_pred_label, rownames=['Actual Activity'], colnames=['Predicted Activity']))\n",
        "print(confusion_matrix(Y_test_label,Y_pred_label))\n",
        "print(\"\\n\")\n",
        "print(classification_report(Y_test_label,Y_pred_label))\n",
        "\n",
        "print(\"Training set score for SVM: %f\" % final_model.score(X_train_scaled , Y_train))\n",
        "print(\"Testing  set score for SVM: %f\" % final_model.score(X_test_scaled  , Y_test ))\n",
        "\n",
        "svm_model.score"
      ],
      "execution_count": null,
      "outputs": [
        {
          "output_type": "stream",
          "text": [
            "[[11 26  1  1  4 19  0  0  0  0]\n",
            " [14 32  0  1  9  4  0  0  0  0]\n",
            " [ 0  0 58  2  0  0  0  0  2  6]\n",
            " [ 2  8  0 29  2  0  0  2  1  8]\n",
            " [ 2  1  0  3 44  7  0  0  0  0]\n",
            " [ 7  9  0  0  9 39  0  0  0  0]\n",
            " [ 0  0  0  0  7  0 40  0 14  0]\n",
            " [ 0  0  2  0  0  0  0 42  2 11]\n",
            " [ 0  0  0  0  2  0  9  1 48  0]\n",
            " [ 0  1 10  9  0  0  0 10  0 35]]\n",
            "\n",
            "\n",
            "                 precision    recall  f1-score   support\n",
            "\n",
            "   asanser_7mam       0.31      0.18      0.22        62\n",
            "   bra_bab_7ded       0.42      0.53      0.47        60\n",
            "           m3ml       0.82      0.85      0.83        68\n",
            "  mo3deen-tor2a       0.64      0.56      0.60        52\n",
            "     mo3den_oda       0.57      0.77      0.66        57\n",
            "        mo3eera       0.57      0.61      0.59        64\n",
            "     tb3a_dctra       0.82      0.66      0.73        61\n",
            "tor2a_bra_dctra       0.76      0.74      0.75        57\n",
            "    tor2a_dctra       0.72      0.80      0.76        60\n",
            "     tor2a_m3ml       0.58      0.54      0.56        65\n",
            "\n",
            "       accuracy                           0.62       606\n",
            "      macro avg       0.62      0.62      0.62       606\n",
            "   weighted avg       0.62      0.62      0.62       606\n",
            "\n",
            "Training set score for SVM: 0.769325\n",
            "Testing  set score for SVM: 0.623762\n"
          ],
          "name": "stdout"
        },
        {
          "output_type": "execute_result",
          "data": {
            "text/plain": [
              "<bound method BaseSearchCV.score of GridSearchCV(cv=10, error_score=nan,\n",
              "             estimator=SVC(C=1.0, break_ties=False, cache_size=200,\n",
              "                           class_weight=None, coef0=0.0,\n",
              "                           decision_function_shape='ovr', degree=3,\n",
              "                           gamma='scale', kernel='rbf', max_iter=-1,\n",
              "                           probability=False, random_state=None, shrinking=True,\n",
              "                           tol=0.001, verbose=False),\n",
              "             iid='deprecated', n_jobs=None,\n",
              "             param_grid=[{'C': [1, 10, 100, 1000],\n",
              "                          'gamma': [0, 0.001, 0.0001, 1e-05, 10, 100],\n",
              "                          'kernel': ['rbf']},\n",
              "                         {'C': [1, 10, 100, 1000], 'kernel': ['linear']}],\n",
              "             pre_dispatch='2*n_jobs', refit=True, return_train_score=False,\n",
              "             scoring=None, verbose=0)>"
            ]
          },
          "metadata": {
            "tags": []
          },
          "execution_count": 10
        }
      ]
    },
    {
      "cell_type": "markdown",
      "metadata": {
        "id": "WLOFkiEs_4ST"
      },
      "source": [
        "# save the model to disk"
      ]
    },
    {
      "cell_type": "code",
      "metadata": {
        "id": "93nIRGq3_2p5"
      },
      "source": [
        "filename = 'model68test.sav'\n",
        "pickle.dump(final_model, open(filename, 'wb'))"
      ],
      "execution_count": null,
      "outputs": []
    },
    {
      "cell_type": "code",
      "metadata": {
        "id": "Uyr374MnAJeo",
        "colab": {
          "base_uri": "https://localhost:8080/"
        },
        "outputId": "3795c0ed-ec38-4a26-c4fd-c86e99409972"
      },
      "source": [
        "# load the model from disk\n",
        "loaded_model = pickle.load(open(filename, 'rb'))\n",
        "result = loaded_model.score(X_test_scaled  , Y_test )\n",
        "print(result)"
      ],
      "execution_count": null,
      "outputs": [
        {
          "output_type": "stream",
          "text": [
            "0.6801801801801802\n"
          ],
          "name": "stdout"
        }
      ]
    },
    {
      "cell_type": "code",
      "metadata": {
        "id": "5yUmHmr0ATfb"
      },
      "source": [
        "\n",
        "input_scaled = scaler.transform(input)\n",
        "output = final_model.predict(input_scaled)\n",
        "output = list(encoder.inverse_transform(output))"
      ],
      "execution_count": null,
      "outputs": []
    }
  ]
}